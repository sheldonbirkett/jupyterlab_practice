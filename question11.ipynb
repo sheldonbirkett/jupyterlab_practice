{
 "cells": [
  {
   "cell_type": "markdown",
   "id": "145b6b9b-c64a-4761-ab3d-11b021e2f1eb",
   "metadata": {},
   "source": [
    "# Sheldon Birkett \n",
    "Notebook for assignment 7"
   ]
  },
  {
   "cell_type": "code",
   "execution_count": 1,
   "id": "31faaeee-d7aa-4df7-a3b3-00d4d8357ac9",
   "metadata": {},
   "outputs": [
    {
     "data": {
      "text/plain": [
       "5.0"
      ]
     },
     "execution_count": 1,
     "metadata": {},
     "output_type": "execute_result"
    }
   ],
   "source": [
    "def compute_mean(vals): \n",
    "    \"\"\"\n",
    "    Description:\n",
    "        Computes mean of numeric values in a list\n",
    "\n",
    "    Parameters: \n",
    "\n",
    "    vals: list,\n",
    "        List of int or float point values\n",
    "\n",
    "    Returns: float\n",
    "        Average\n",
    "\n",
    "    Example: \n",
    "    >>>>compute_mean([1,1])\n",
    "    >>>>1\n",
    "    \"\"\"\n",
    "    av = 0\n",
    "    \n",
    "    for i in vals: \n",
    "       av = av + i \n",
    "\n",
    "    return (av/len(vals))\n",
    "\n",
    "compute_mean([2,4,6,8])"
   ]
  },
  {
   "cell_type": "markdown",
   "id": "04c27eca-6b21-41c6-a975-b6ae0fe04558",
   "metadata": {},
   "source": [
    "The function `compute_mean()` takes the average of an $n$ size list of numeric (float or integer) values and returns the float point average of the list. The average is calculated in the following way: \n",
    "\n",
    "$$ \\bar{x} = \\frac{x_1 + x_2 + \\dots + x_n}{n} = \\frac{1}{n} \\left( \\sum^{n}_{i=1} x_i\\right)$$"
   ]
  },
  {
   "cell_type": "code",
   "execution_count": null,
   "id": "3a9a4756-760a-4f40-ac1d-7e24818b8003",
   "metadata": {},
   "outputs": [],
   "source": []
  }
 ],
 "metadata": {
  "kernelspec": {
   "display_name": "Python [conda env:jl_env]",
   "language": "python",
   "name": "conda-env-jl_env-py"
  },
  "language_info": {
   "codemirror_mode": {
    "name": "ipython",
    "version": 3
   },
   "file_extension": ".py",
   "mimetype": "text/x-python",
   "name": "python",
   "nbconvert_exporter": "python",
   "pygments_lexer": "ipython3",
   "version": "3.12.2"
  }
 },
 "nbformat": 4,
 "nbformat_minor": 5
}
